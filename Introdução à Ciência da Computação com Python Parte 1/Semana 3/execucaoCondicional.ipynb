{
 "cells": [
  {
   "cell_type": "markdown",
   "metadata": {},
   "source": [
    "Autor: Wirley Almeida\n",
    "07/10/2021\n",
    "Introdução à Ciência da Computação com Python Parte 1\n",
    "Semana 3\n",
    "Execução Condicional"
   ]
  },
  {
   "cell_type": "code",
   "execution_count": 1,
   "metadata": {},
   "outputs": [
    {
     "data": {
      "text/plain": [
       "True"
      ]
     },
     "execution_count": 1,
     "metadata": {},
     "output_type": "execute_result"
    }
   ],
   "source": [
    "temperatura = 102\n",
    "if temperatura > 100:\n",
    "    aguaFerve = True\n",
    "\n",
    "aguaFerve"
   ]
  },
  {
   "cell_type": "code",
   "execution_count": 3,
   "metadata": {},
   "outputs": [
    {
     "data": {
      "text/plain": [
       "True"
      ]
     },
     "execution_count": 3,
     "metadata": {},
     "output_type": "execute_result"
    }
   ],
   "source": [
    "temperatura = 102\n",
    "if temperatura > 100:\n",
    "    aguaFerve = True\n",
    "    evaporacao = 'muito rápida'\n",
    "\n",
    "aguaFerve"
   ]
  },
  {
   "cell_type": "code",
   "execution_count": 4,
   "metadata": {},
   "outputs": [
    {
     "data": {
      "text/plain": [
       "'muito rápida'"
      ]
     },
     "execution_count": 4,
     "metadata": {},
     "output_type": "execute_result"
    }
   ],
   "source": [
    "evaporacao"
   ]
  },
  {
   "cell_type": "code",
   "execution_count": 5,
   "metadata": {},
   "outputs": [
    {
     "name": "stdout",
     "output_type": "stream",
     "text": [
      "Ainda tem jogo pela frente\n",
      "Que bom, eu adoro futebol\n"
     ]
    }
   ],
   "source": [
    "tempoDeJogo = int(input('Quanto tempo temos já jogado? '))\n",
    "\n",
    "if tempoDeJogo <= 90:\n",
    "    print('Ainda tem jogo pela frente')\n",
    "    print('Que bom, eu adoro futebol')\n",
    "else:\n",
    "    print('Putz, tá acabando o jogo')\n",
    "    print('Apita logo, juiz!!!!')\n"
   ]
  },
  {
   "cell_type": "code",
   "execution_count": 6,
   "metadata": {},
   "outputs": [
    {
     "name": "stdout",
     "output_type": "stream",
     "text": [
      "Putz, tá acabando o jogo\n",
      "Apita logo, juiz!!!!\n"
     ]
    }
   ],
   "source": [
    "tempoDeJogo = int(input('Quanto tempo temos já jogado? '))\n",
    "\n",
    "if tempoDeJogo <= 90:\n",
    "    print('Ainda tem jogo pela frente')\n",
    "    print('Que bom, eu adoro futebol')\n",
    "else:\n",
    "    print('Putz, tá acabando o jogo')\n",
    "    print('Apita logo, juiz!!!!')\n"
   ]
  },
  {
   "cell_type": "code",
   "execution_count": 8,
   "metadata": {},
   "outputs": [
    {
     "data": {
      "text/plain": [
       "3.0"
      ]
     },
     "execution_count": 8,
     "metadata": {},
     "output_type": "execute_result"
    }
   ],
   "source": [
    "import math\n",
    "math.sqrt(9)"
   ]
  },
  {
   "cell_type": "code",
   "execution_count": 12,
   "metadata": {},
   "outputs": [
    {
     "name": "stdout",
     "output_type": "stream",
     "text": [
      "A equação possui duas raízes reais distintas\n",
      "x1 = -0.2679491924311228 e x2 =  -3.732050807568877\n"
     ]
    }
   ],
   "source": [
    "a = float(input('a = '))\n",
    "b = float(input('b = '))\n",
    "c = float(input('c = '))\n",
    "\n",
    "delta  = b ** 2 - 4*a*c\n",
    "\n",
    "if delta < 0:\n",
    "    print('A equação não tem raízes reais')\n",
    "else:\n",
    "    if delta == 0:\n",
    "        print('A equação tem duas raízes reais iguais')\n",
    "        x = (-b) / (2*a)\n",
    "        print('x1 = x2 =', x)\n",
    "    else:\n",
    "        print('A equação possui duas raízes reais distintas')\n",
    "        x1 = (-b + math.sqrt(delta)) / (2*a)\n",
    "        x2 = (-b - math.sqrt(delta)) / (2*a)\n",
    "        print('x1 =', x1, 'e x2 = ', x2)\n"
   ]
  }
 ],
 "metadata": {
  "interpreter": {
   "hash": "dc356222df57acb257bff4fd29d90767b199d8edba66cc5bc2b91f604ae60513"
  },
  "kernelspec": {
   "display_name": "Python 3.8.11 64-bit ('base': conda)",
   "name": "python3"
  },
  "language_info": {
   "codemirror_mode": {
    "name": "ipython",
    "version": 3
   },
   "file_extension": ".py",
   "mimetype": "text/x-python",
   "name": "python",
   "nbconvert_exporter": "python",
   "pygments_lexer": "ipython3",
   "version": "3.8.11"
  },
  "orig_nbformat": 4
 },
 "nbformat": 4,
 "nbformat_minor": 2
}
