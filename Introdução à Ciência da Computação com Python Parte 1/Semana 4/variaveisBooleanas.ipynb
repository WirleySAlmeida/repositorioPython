{
 "cells": [
  {
   "cell_type": "markdown",
   "metadata": {},
   "source": [
    "Autor: Wirley Almeida  \n",
    "21/10/2021  \n",
    "Introdução à Ciência da Computação com Python Parte 1  \n",
    "Semana 4  \n",
    "Variáveis Booleanas"
   ]
  },
  {
   "cell_type": "code",
   "execution_count": 6,
   "metadata": {},
   "outputs": [
    {
     "name": "stdout",
     "output_type": "stream",
     "text": [
      "A sequência não está em ordem decrescente\n"
     ]
    }
   ],
   "source": [
    "decrescente = True\n",
    "anterior = int(input(\"Digite o primeiro número da sequência: \"))\n",
    "valor = 1\n",
    "while valor != 0 and decrescente:\n",
    "    valor = int(input(\"Digite o próximo número da sequência: \"))\n",
    "    if valor > anterior:\n",
    "        decrescente = False # Indicador de passagem\n",
    "    anterior = valor\n",
    "\n",
    "if decrescente:\n",
    "    print(\"A sequência está em ordem decrescente\")\n",
    "else:\n",
    "    print(\"A sequência não está em ordem decrescente\")\n"
   ]
  },
  {
   "cell_type": "code",
   "execution_count": 8,
   "metadata": {},
   "outputs": [
    {
     "name": "stdout",
     "output_type": "stream",
     "text": [
      "Meu cartão estã lá\n"
     ]
    }
   ],
   "source": [
    "meuCartao = int(input(\"Digite o número do seu cartão de crédito: \"))\n",
    "cartaoLido = 1\n",
    "encontreiMeuCartao = False\n",
    "while cartaoLido != 0 and not encontreiMeuCartao:\n",
    "    cartaoLido = int(input(\"Digite o número do próximo cartão de crédito: \"))\n",
    "    if cartaoLido == meuCartao:\n",
    "        encontreiMeuCartao = True # Indicador de passagem\n",
    "\n",
    "if encontreiMeuCartao:\n",
    "    print(\"Meu cartão está lá\")\n",
    "else:\n",
    "    print(\"Meu cartão não está lá...\")\n"
   ]
  },
  {
   "cell_type": "markdown",
   "metadata": {},
   "source": [
    "Desafio: Dado um número com vários dígitos, dizer se esse número tem dois dígitos adjacentes iguais ou não"
   ]
  },
  {
   "cell_type": "code",
   "execution_count": 21,
   "metadata": {},
   "outputs": [
    {
     "name": "stdout",
     "output_type": "stream",
     "text": [
      "Tem números adjacentes iguais\n"
     ]
    }
   ],
   "source": [
    "numero = input(\"Digite um número com vários dígitos: \")\n",
    "\n",
    "num = int(numero)\n",
    "numerosAdjacentes = False\n",
    "menorDigito = num % 10\n",
    "num = num // 10\n",
    "i = 1\n",
    "\n",
    "while i < len(numero) and not numerosAdjacentes:\n",
    "    novoMenorDigito = num % 10\n",
    "    num = num // 10\n",
    "    i = i + 1\n",
    "    if novoMenorDigito == menorDigito:\n",
    "        numerosAdjacentes = True\n",
    "    \n",
    "    menorDigito = novoMenorDigito\n",
    "\n",
    "if numerosAdjacentes:\n",
    "    print(\"Tem números adjacentes iguais\")\n",
    "else:\n",
    "    print(\"Não tem números adjacentes iguais\")\n"
   ]
  }
 ],
 "metadata": {
  "interpreter": {
   "hash": "dc356222df57acb257bff4fd29d90767b199d8edba66cc5bc2b91f604ae60513"
  },
  "kernelspec": {
   "display_name": "Python 3.8.11 64-bit ('base': conda)",
   "name": "python3"
  },
  "language_info": {
   "codemirror_mode": {
    "name": "ipython",
    "version": 3
   },
   "file_extension": ".py",
   "mimetype": "text/x-python",
   "name": "python",
   "nbconvert_exporter": "python",
   "pygments_lexer": "ipython3",
   "version": "3.8.11"
  },
  "orig_nbformat": 4
 },
 "nbformat": 4,
 "nbformat_minor": 2
}
