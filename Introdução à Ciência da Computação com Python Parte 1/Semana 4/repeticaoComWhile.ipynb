{
 "cells": [
  {
   "cell_type": "markdown",
   "metadata": {},
   "source": [
    "Autor: Wirley Almeida  \n",
    "21/10/2021  \n",
    "Introdução à Ciência da Computação com Python Parte 1  \n",
    "Semana 4  \n",
    "Repetição com While"
   ]
  },
  {
   "cell_type": "code",
   "execution_count": null,
   "metadata": {},
   "outputs": [],
   "source": [
    "print(2 ** 0)\n",
    "print(2 ** 1)\n",
    "print(2 ** 2)\n",
    "print(2 ** 3)\n",
    "print(2 ** 4)\n",
    "print(2 ** 5)\n",
    "print(2 ** 6)\n",
    "print(2 ** 7)\n",
    "print(2 ** 8)\n",
    "print(2 ** 9)\n",
    "print(2 ** 10)\n",
    "print(2 ** 11)\n",
    "print(2 ** 12)\n",
    "print(2 ** 13)"
   ]
  },
  {
   "cell_type": "code",
   "execution_count": null,
   "metadata": {},
   "outputs": [],
   "source": [
    "i = 0\n",
    "while i <= 13:\n",
    "    print(2 ** i)\n",
    "    i = i + 1\n"
   ]
  },
  {
   "cell_type": "code",
   "execution_count": null,
   "metadata": {},
   "outputs": [],
   "source": [
    "print(\"Digite uma sequência de valores terminada por zero.\")\n",
    "soma = 0\n",
    "valor = 1\n",
    "while valor != 0:\n",
    "    valor = float(input(\"Digite um valor a ser somado: \"))\n",
    "    soma = soma + valor\n",
    "\n",
    "print(\"A soma dos valores digitados é: \", soma)"
   ]
  },
  {
   "cell_type": "code",
   "execution_count": 9,
   "metadata": {},
   "outputs": [
    {
     "name": "stdout",
     "output_type": "stream",
     "text": [
      "O produto dos valores digitados é:  120.0\n"
     ]
    }
   ],
   "source": [
    "tamanho = int(input(\"Digite o tamanho da sequência de números: \"))\n",
    "\n",
    "produto = 1\n",
    "i = 0\n",
    "\n",
    "while i < tamanho:\n",
    "    valor = float(input(\"Digite um valor a ser multiplicado: \"))\n",
    "    produto = produto * valor\n",
    "    i = i + 1\n",
    "\n",
    "print(\"O produto dos valores digitados é: \", produto)"
   ]
  },
  {
   "cell_type": "code",
   "execution_count": 12,
   "metadata": {},
   "outputs": [
    {
     "name": "stdout",
     "output_type": "stream",
     "text": [
      "A soma dos número é:  16\n"
     ]
    }
   ],
   "source": [
    "numero = input(\"Digite um número: \")\n",
    "n = int(numero)\n",
    "i = 0\n",
    "soma = 0\n",
    "while i <= len(numero):\n",
    "    c = n % 10\n",
    "    soma = soma + c\n",
    "    n = n // 10\n",
    "    i = i + 1\n",
    "\n",
    "print(\"A soma dos número é: \", soma)"
   ]
  }
 ],
 "metadata": {
  "interpreter": {
   "hash": "dc356222df57acb257bff4fd29d90767b199d8edba66cc5bc2b91f604ae60513"
  },
  "kernelspec": {
   "display_name": "Python 3.8.11 64-bit ('base': conda)",
   "name": "python3"
  },
  "language_info": {
   "codemirror_mode": {
    "name": "ipython",
    "version": 3
   },
   "file_extension": ".py",
   "mimetype": "text/x-python",
   "name": "python",
   "nbconvert_exporter": "python",
   "pygments_lexer": "ipython3",
   "version": "3.8.11"
  },
  "orig_nbformat": 4
 },
 "nbformat": 4,
 "nbformat_minor": 2
}
