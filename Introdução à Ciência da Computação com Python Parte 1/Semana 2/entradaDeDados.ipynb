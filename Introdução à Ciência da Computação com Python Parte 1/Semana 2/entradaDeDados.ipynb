{
 "cells": [
  {
   "cell_type": "markdown",
   "metadata": {},
   "source": [
    "Autor: Wirley Almeida\n",
    "07/10/2021\n",
    "Introdução à Ciência da Computação com Python Parte 1\n",
    "Semana 2\n",
    "Entrada de Dados"
   ]
  },
  {
   "cell_type": "code",
   "execution_count": null,
   "metadata": {},
   "outputs": [
    {
     "name": "stdout",
     "output_type": "stream",
     "text": [
      "A temperatura em celsius é  1.1111111111111112\n"
     ]
    }
   ],
   "source": [
    "temperaturaFahrenheit = float(input('Digite uma temperatura em Fahreiheit '))\n",
    "temperaturaCelsius = (temperaturaFahrenheit - 32) * 5 / 9\n",
    "print('A temperatura em celsius é ', temperaturaCelsius)"
   ]
  },
  {
   "cell_type": "code",
   "execution_count": 1,
   "metadata": {},
   "outputs": [
    {
     "name": "stdout",
     "output_type": "stream",
     "text": [
      "Bom dia Sra. Artemiza !!! E bom dia Sr. Wildemar\n"
     ]
    }
   ],
   "source": [
    "nomeDaMae = input('Qual o nome da sua mae? ')\n",
    "nomeDoPai = input('Qual o nome da seu pai? ')\n",
    "\n",
    "print('Bom dia Sra.', nomeDaMae, '!!! E bom dia Sr.', nomeDoPai)"
   ]
  },
  {
   "cell_type": "code",
   "execution_count": 2,
   "metadata": {},
   "outputs": [
    {
     "name": "stdout",
     "output_type": "stream",
     "text": [
      "3 horas, 25 minutos e 45 segundos.\n"
     ]
    }
   ],
   "source": [
    "segundos_str = input('Por favor, entre com o número de segundos que deseja converter: ')\n",
    "total_segs = int(segundos_str)\n",
    "\n",
    "horas = total_segs // 3600\n",
    "segs_restantes = total_segs % 3600\n",
    "minutos = segs_restantes // 60\n",
    "segs_restantes_final = segs_restantes % 60\n",
    "\n",
    "print(horas, 'horas,', minutos, 'minutos e', segs_restantes_final, 'segundos.')"
   ]
  },
  {
   "cell_type": "code",
   "execution_count": 6,
   "metadata": {},
   "outputs": [
    {
     "name": "stdout",
     "output_type": "stream",
     "text": [
      "2 dias, 2 horas, 0 minutos e 0 segundos.\n"
     ]
    }
   ],
   "source": [
    "segundos_str = input('Por favor, entre com o número de segundos que deseja converter: ')\n",
    "total_segs = int(segundos_str)\n",
    "\n",
    "dias = total_segs // 86400\n",
    "segs_restantes = total_segs % 86400\n",
    "horas = segs_restantes // 3600\n",
    "segs_restantes_horas = segs_restantes % 3600\n",
    "minutos = segs_restantes_horas // 60\n",
    "segs_restantes_final = segs_restantes_horas % 60\n",
    "\n",
    "if dias > 1:\n",
    "    print(dias, 'dias,', horas, 'horas,', minutos, 'minutos e', segs_restantes_final, 'segundos.')\n",
    "else:\n",
    "    print(dias, 'dia,', horas, 'horas,', minutos, 'minutos e', segs_restantes_final, 'segundos.')\n"
   ]
  }
 ],
 "metadata": {
  "interpreter": {
   "hash": "dc356222df57acb257bff4fd29d90767b199d8edba66cc5bc2b91f604ae60513"
  },
  "kernelspec": {
   "display_name": "Python 3.8.11 64-bit ('base': conda)",
   "name": "python3"
  },
  "language_info": {
   "codemirror_mode": {
    "name": "ipython",
    "version": 3
   },
   "file_extension": ".py",
   "mimetype": "text/x-python",
   "name": "python",
   "nbconvert_exporter": "python",
   "pygments_lexer": "ipython3",
   "version": "3.8.11"
  },
  "orig_nbformat": 4
 },
 "nbformat": 4,
 "nbformat_minor": 2
}
